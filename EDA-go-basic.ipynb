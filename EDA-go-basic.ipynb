{
 "cells": [
  {
   "cell_type": "markdown",
   "metadata": {},
   "source": [
    "# EDA: [exploratory data analysis](https://en.wikipedia.org/wiki/Exploratory_data_analysis)"
   ]
  },
  {
   "cell_type": "code",
   "execution_count": 1,
   "metadata": {
    "collapsed": true
   },
   "outputs": [],
   "source": [
    "from eda_imports import *"
   ]
  },
  {
   "cell_type": "code",
   "execution_count": 2,
   "metadata": {
    "collapsed": true
   },
   "outputs": [],
   "source": [
    "def parse_term(stanza, tag):\n",
    "    \"\"\"\n",
    "    e.g. tag could be Term or Typedef \n",
    "    (http://owlcollab.github.io/oboformat/doc/GO.format.obo-1_2.html)\n",
    "    \"\"\"\n",
    "    res = {'tag': tag}\n",
    "    for line in stanza:\n",
    "        key, val = line.strip().split(': ', 1)\n",
    "        # if a key corresponds to multiple values, convert the values to a list\n",
    "        if key in res:\n",
    "            old_val = res.pop(key)\n",
    "            if isinstance(old_val, str):\n",
    "                res[key] = [old_val, val]\n",
    "            elif isinstance(old_val, list):\n",
    "                res[key] = old_val + [val]\n",
    "            else:\n",
    "                raise ValueError('unknown value type for key {0}: {1}'.format(key, type(old_val)))\n",
    "        else:\n",
    "            res[key] = val\n",
    "    return res"
   ]
  },
  {
   "cell_type": "code",
   "execution_count": 3,
   "metadata": {
    "collapsed": true
   },
   "outputs": [],
   "source": [
    "def collect_stanza(inf):\n",
    "    res = []\n",
    "    while True:\n",
    "        line = inf.readline().strip()\n",
    "        if line:\n",
    "            res.append(line)\n",
    "        else:\n",
    "            break\n",
    "    return res"
   ]
  },
  {
   "cell_type": "code",
   "execution_count": 4,
   "metadata": {
    "collapsed": true
   },
   "outputs": [],
   "source": [
    "import gzip"
   ]
  },
  {
   "cell_type": "code",
   "execution_count": 5,
   "metadata": {
    "collapsed": false
   },
   "outputs": [],
   "source": [
    "res = []\n",
    "with gzip.open('./go-basic.obo.gz', 'rt') as inf:\n",
    "    current_stanza = None\n",
    "    count = 0\n",
    "    for line in inf:\n",
    "#         for tag in ['Term', 'Typedef']:\n",
    "        for tag in ['Term']:\n",
    "            if line.startswith('[{0}]'.format(tag)):\n",
    "                current_stanza = collect_stanza(inf)\n",
    "                parsed = parse_term(current_stanza, tag=tag)\n",
    "                res.append(parsed)\n",
    "                current_stanza = None\n",
    "                count += 1\n",
    "            else:\n",
    "                continue\n",
    "#             if count == 5:\n",
    "#                 break"
   ]
  },
  {
   "cell_type": "code",
   "execution_count": 6,
   "metadata": {
    "collapsed": false
   },
   "outputs": [],
   "source": [
    "# some simple test cases\n",
    "\n",
    "# 46921 [Term] and 5 [Typedef]\n",
    "# assert count == 46921 + 5\n",
    "\n",
    "obj = res[2]\n",
    "assert obj['id'] == 'GO:0000003'\n",
    "assert len(obj['subset']) == 6\n",
    "assert obj['is_a'] == 'GO:0008150 ! biological_process'\n",
    "\n",
    "obj = res[3]\n",
    "assert obj['id'] == 'GO:0000005'\n",
    "assert obj['is_obsolete'] == 'true'\n",
    "assert obj['consider'] == ['GO:0042254', 'GO:0044183', 'GO:0051082']"
   ]
  },
  {
   "cell_type": "code",
   "execution_count": 7,
   "metadata": {
    "collapsed": false
   },
   "outputs": [],
   "source": [
    "df = pd.DataFrame.from_records(res)"
   ]
  },
  {
   "cell_type": "code",
   "execution_count": 8,
   "metadata": {
    "collapsed": false
   },
   "outputs": [],
   "source": [
    "df['is_obsolete'] = df.is_obsolete.replace({'true': True}).fillna(False).values"
   ]
  },
  {
   "cell_type": "code",
   "execution_count": 9,
   "metadata": {
    "collapsed": false
   },
   "outputs": [
    {
     "data": {
      "text/plain": [
       "(46921, 15)"
      ]
     },
     "execution_count": 9,
     "metadata": {},
     "output_type": "execute_result"
    }
   ],
   "source": [
    "df.shape"
   ]
  },
  {
   "cell_type": "code",
   "execution_count": 10,
   "metadata": {
    "collapsed": false
   },
   "outputs": [
    {
     "data": {
      "text/plain": [
       "Term    46921\n",
       "Name: tag, dtype: int64"
      ]
     },
     "execution_count": 10,
     "metadata": {},
     "output_type": "execute_result"
    }
   ],
   "source": [
    "df.tag.value_counts()"
   ]
  },
  {
   "cell_type": "code",
   "execution_count": 11,
   "metadata": {
    "collapsed": false
   },
   "outputs": [
    {
     "data": {
      "text/plain": [
       "(15,)"
      ]
     },
     "execution_count": 11,
     "metadata": {},
     "output_type": "execute_result"
    }
   ],
   "source": [
    "df.columns.values.shape"
   ]
  },
  {
   "cell_type": "markdown",
   "metadata": {},
   "source": [
    "so there are a max number of this many keys available for each Term in this obo file. It's not that many, and we'll sample values from each key to get a sense of what they look like"
   ]
  },
  {
   "cell_type": "code",
   "execution_count": 12,
   "metadata": {
    "collapsed": false
   },
   "outputs": [
    {
     "data": {
      "text/plain": [
       "['alt_id',\n",
       " 'comment',\n",
       " 'consider',\n",
       " 'def',\n",
       " 'id',\n",
       " 'is_a',\n",
       " 'is_obsolete',\n",
       " 'name',\n",
       " 'namespace',\n",
       " 'relationship',\n",
       " 'replaced_by',\n",
       " 'subset',\n",
       " 'synonym',\n",
       " 'tag',\n",
       " 'xref']"
      ]
     },
     "execution_count": 12,
     "metadata": {},
     "output_type": "execute_result"
    }
   ],
   "source": [
    "np.sort(df.columns.values).tolist()"
   ]
  },
  {
   "cell_type": "code",
   "execution_count": 13,
   "metadata": {
    "collapsed": false
   },
   "outputs": [
    {
     "data": {
      "text/plain": [
       "biological_process    30566\n",
       "molecular_function    12062\n",
       "cellular_component    4293 \n",
       "Name: namespace, dtype: int64"
      ]
     },
     "execution_count": 13,
     "metadata": {},
     "output_type": "execute_result"
    }
   ],
   "source": [
    "df.namespace.value_counts()"
   ]
  },
  {
   "cell_type": "code",
   "execution_count": 14,
   "metadata": {
    "collapsed": false
   },
   "outputs": [
    {
     "data": {
      "text/plain": [
       "False    44881\n",
       "True     2040 \n",
       "Name: is_obsolete, dtype: int64"
      ]
     },
     "execution_count": 14,
     "metadata": {},
     "output_type": "execute_result"
    }
   ],
   "source": [
    "df.is_obsolete.value_counts()"
   ]
  },
  {
   "cell_type": "code",
   "execution_count": 15,
   "metadata": {
    "collapsed": false
   },
   "outputs": [
    {
     "data": {
      "text/plain": [
       "2    [GO:0019952, GO:0050876]\n",
       "6    GO:0000013              \n",
       "Name: alt_id, dtype: object"
      ]
     },
     "execution_count": 15,
     "metadata": {},
     "output_type": "execute_result"
    }
   ],
   "source": [
    "df.alt_id.dropna().head(2)"
   ]
  },
  {
   "cell_type": "code",
   "execution_count": 16,
   "metadata": {
    "collapsed": false
   },
   "outputs": [
    {
     "data": {
      "text/plain": [
       "3    [GO:0042254, GO:0044183, GO:0051082]\n",
       "6    [GO:0003756, GO:0015036]            \n",
       "Name: consider, dtype: object"
      ]
     },
     "execution_count": 16,
     "metadata": {},
     "output_type": "execute_result"
    }
   ],
   "source": [
    "df.consider.dropna().head(2)"
   ]
  },
  {
   "cell_type": "code",
   "execution_count": 17,
   "metadata": {
    "collapsed": false
   },
   "outputs": [
    {
     "data": {
      "text/plain": [
       "['MetaCyc:RXN-8680',\n",
       " ['EC:3.4.24.19', 'MetaCyc:3.4.24.19-RXN'],\n",
       " 'MetaCyc:FASYN-ELONG-PWY',\n",
       " ['EC:6.2.1.23', 'MetaCyc:DICARBOXYLATE--COA-LIGASE-RXN'],\n",
       " ['EC:1.6.6', 'UM-BBD_reactionID:r0464'],\n",
       " ['EC:3.4.19.3', 'MetaCyc:PYROGLUTAMYL-PEPTIDASE-I-RXN'],\n",
       " ['EC:1.11.1.11', 'MetaCyc:L-ASCORBATE-PEROXIDASE-RXN'],\n",
       " ['EC:3.2.1.77', 'MetaCyc:3.2.1.77-RXN'],\n",
       " ['EC:2.7.1.30',\n",
       "  'KEGG:R00847',\n",
       "  'MetaCyc:GLYCEROL-KIN-RXN',\n",
       "  'Reactome:REACT_724 \"Conversion of Glycerol to Glycerol-3-phosphate, Homo sapiens\"',\n",
       "  'RHEA:21647'],\n",
       " ['EC:3.1.3.18', 'KEGG:R01334', 'MetaCyc:GPH-RXN', 'RHEA:14372']]"
      ]
     },
     "execution_count": 17,
     "metadata": {},
     "output_type": "execute_result"
    }
   ],
   "source": [
    "df.xref.dropna().sample(10).values.tolist()"
   ]
  },
  {
   "cell_type": "code",
   "execution_count": 18,
   "metadata": {
    "collapsed": false
   },
   "outputs": [
    {
     "data": {
      "text/html": [
       "<div>\n",
       "<table border=\"1\" class=\"dataframe\">\n",
       "  <thead>\n",
       "    <tr style=\"text-align: right;\">\n",
       "      <th></th>\n",
       "      <th>is_obsolete</th>\n",
       "      <th>replaced_by</th>\n",
       "    </tr>\n",
       "  </thead>\n",
       "  <tbody>\n",
       "    <tr>\n",
       "      <th>5853</th>\n",
       "      <td>True</td>\n",
       "      <td>GO:0000750</td>\n",
       "    </tr>\n",
       "    <tr>\n",
       "      <th>7543</th>\n",
       "      <td>True</td>\n",
       "      <td>GO:0045155</td>\n",
       "    </tr>\n",
       "    <tr>\n",
       "      <th>1109</th>\n",
       "      <td>True</td>\n",
       "      <td>GO:0005868</td>\n",
       "    </tr>\n",
       "    <tr>\n",
       "      <th>24400</th>\n",
       "      <td>True</td>\n",
       "      <td>GO:0019609</td>\n",
       "    </tr>\n",
       "    <tr>\n",
       "      <th>320</th>\n",
       "      <td>True</td>\n",
       "      <td>GO:0000384</td>\n",
       "    </tr>\n",
       "  </tbody>\n",
       "</table>\n",
       "</div>"
      ],
      "text/plain": [
       "      is_obsolete replaced_by\n",
       "5853   True        GO:0000750\n",
       "7543   True        GO:0045155\n",
       "1109   True        GO:0005868\n",
       "24400  True        GO:0019609\n",
       "320    True        GO:0000384"
      ]
     },
     "execution_count": 18,
     "metadata": {},
     "output_type": "execute_result"
    }
   ],
   "source": [
    "df.query('replaced_by == replaced_by')[['is_obsolete', 'replaced_by']].sample(5)"
   ]
  },
  {
   "cell_type": "code",
   "execution_count": 19,
   "metadata": {
    "collapsed": false
   },
   "outputs": [
    {
     "data": {
      "text/plain": [
       "15    regulates GO:0006310 ! DNA recombination    \n",
       "16    regulates GO:0006312 ! mitotic recombination\n",
       "Name: relationship, dtype: object"
      ]
     },
     "execution_count": 19,
     "metadata": {},
     "output_type": "execute_result"
    }
   ],
   "source": [
    "df.relationship.dropna().head(2)"
   ]
  },
  {
   "cell_type": "code",
   "execution_count": 20,
   "metadata": {
    "collapsed": false
   },
   "outputs": [
    {
     "data": {
      "text/plain": [
       "4504     \"The protein complexes that form the mitochondrial electron transport system (the respiratory chain), associated with the inner mitochondrial membrane. The respiratory chain complexes transfer electrons from an electron donor to an electron acceptor and are associated with a proton pump to create a transmembrane electrochemical gradient.\" [GOC:curators, GOC:ecd, ISBN:0198547684]\n",
       "30499    \"The developmental process, independent of morphogenetic (shape) change, that is required for a columna/cuboidal epithelial cell of the intestine to attain its fully functional state. A columnar/cuboidal epithelial cell of the intestine mature as they migrate from the intestinal crypt to the villus.\" [GOC:dph, PMID:18824147]                                                       \n",
       "Name: def, dtype: object"
      ]
     },
     "execution_count": 20,
     "metadata": {},
     "output_type": "execute_result"
    }
   ],
   "source": [
    "df['def'].dropna().sample(2)"
   ]
  },
  {
   "cell_type": "code",
   "execution_count": 21,
   "metadata": {
    "collapsed": false
   },
   "outputs": [
    {
     "data": {
      "text/plain": [
       "gosubset_prok                       7805\n",
       "goslim_synapse                      326 \n",
       "virus_checked                       226 \n",
       "goslim_pir|gosubset_prok            163 \n",
       "goslim_pir                          147 \n",
       "goslim_chembl                       80  \n",
       "gocheck_do_not_annotate             70  \n",
       "termgenie_unvetted                  61  \n",
       "gocheck_do_not_manually_annotate    58  \n",
       "goslim_chembl|gosubset_prok         49  \n",
       "Name: subset, dtype: int64"
      ]
     },
     "execution_count": 21,
     "metadata": {},
     "output_type": "execute_result"
    }
   ],
   "source": [
    "df.subset.apply(lambda v: '|'.join(v) if isinstance(v, list) else v).value_counts().head(10)"
   ]
  },
  {
   "cell_type": "code",
   "execution_count": 22,
   "metadata": {
    "collapsed": false
   },
   "outputs": [
    {
     "data": {
      "text/plain": [
       "False    3190\n",
       "True     2002\n",
       "Name: is_obsolete, dtype: int64"
      ]
     },
     "execution_count": 22,
     "metadata": {},
     "output_type": "execute_result"
    }
   ],
   "source": [
    "# many comments appear to be explanation of why a GO term is deprecated\n",
    "df.query('comment == comment')[['is_obsolete', 'comment']].is_obsolete.value_counts()"
   ]
  },
  {
   "cell_type": "code",
   "execution_count": 23,
   "metadata": {
    "collapsed": false
   },
   "outputs": [
    {
     "data": {
      "text/html": [
       "<div>\n",
       "<table border=\"1\" class=\"dataframe\">\n",
       "  <thead>\n",
       "    <tr style=\"text-align: right;\">\n",
       "      <th></th>\n",
       "      <th>is_obsolete</th>\n",
       "      <th>comment</th>\n",
       "    </tr>\n",
       "  </thead>\n",
       "  <tbody>\n",
       "    <tr>\n",
       "      <th>28241</th>\n",
       "      <td>False</td>\n",
       "      <td>Note that this term should not be used for direct annotation. If you are trying to make an annotation to x phase, it is likely that the correct annotation is 'regulation of x/y phase transition' or to a process which occurs during the reported phase (i.e mitotic DNA replication for mitotic S-phase). To capture the phase when a specific location or process is observed, the phase term can be used in an annotation extension (PMID:24885854) applied to a cellular component term (with the relation exists_during) or a biological process term (with the relation happens_during).</td>\n",
       "    </tr>\n",
       "    <tr>\n",
       "      <th>533</th>\n",
       "      <td>False</td>\n",
       "      <td>Chromosomes include parts that are not part of the chromatin.  Examples include the kinetochore.</td>\n",
       "    </tr>\n",
       "    <tr>\n",
       "      <th>36849</th>\n",
       "      <td>False</td>\n",
       "      <td>Examples include human speech and learned bird song.</td>\n",
       "    </tr>\n",
       "    <tr>\n",
       "      <th>43485</th>\n",
       "      <td>False</td>\n",
       "      <td>wrm-1 in C. Elegans (Q10953) in PMID:17476329 (IMP)</td>\n",
       "    </tr>\n",
       "    <tr>\n",
       "      <th>45193</th>\n",
       "      <td>False</td>\n",
       "      <td>An example of this is HSP90AB1 in human (UniProt symbol P08238) in PMID:21855797 (inferred from direct assay).</td>\n",
       "    </tr>\n",
       "    <tr>\n",
       "      <th>28984</th>\n",
       "      <td>True</td>\n",
       "      <td>This term was made obsolete because it contained a conjunction (or). It has been replaced with the terms 'growth of symbiont during interaction with host ; GO:0044116' and 'development of symbiont during interaction with host ; GO:0044115'.</td>\n",
       "    </tr>\n",
       "    <tr>\n",
       "      <th>7562</th>\n",
       "      <td>True</td>\n",
       "      <td>This term was made obsolete because it represents a gene product.</td>\n",
       "    </tr>\n",
       "    <tr>\n",
       "      <th>13088</th>\n",
       "      <td>False</td>\n",
       "      <td>This term was added by GO_REF:0000021.</td>\n",
       "    </tr>\n",
       "    <tr>\n",
       "      <th>17661</th>\n",
       "      <td>False</td>\n",
       "      <td>Note that this term is not synonymous with 'homophilic cell adhesion ; GO:0007156'; the process may occur by homophilic or heterophilic mechanisms.</td>\n",
       "    </tr>\n",
       "    <tr>\n",
       "      <th>11106</th>\n",
       "      <td>True</td>\n",
       "      <td>This term was made obsolete because it represents a gene product.</td>\n",
       "    </tr>\n",
       "  </tbody>\n",
       "</table>\n",
       "</div>"
      ],
      "text/plain": [
       "      is_obsolete  \\\n",
       "28241  False        \n",
       "533    False        \n",
       "36849  False        \n",
       "43485  False        \n",
       "45193  False        \n",
       "28984  True         \n",
       "7562   True         \n",
       "13088  False        \n",
       "17661  False        \n",
       "11106  True         \n",
       "\n",
       "                                                                                                                                                                                                                                                                                                                                                                                                                                                                                                                                                                                                comment  \n",
       "28241  Note that this term should not be used for direct annotation. If you are trying to make an annotation to x phase, it is likely that the correct annotation is 'regulation of x/y phase transition' or to a process which occurs during the reported phase (i.e mitotic DNA replication for mitotic S-phase). To capture the phase when a specific location or process is observed, the phase term can be used in an annotation extension (PMID:24885854) applied to a cellular component term (with the relation exists_during) or a biological process term (with the relation happens_during).  \n",
       "533    Chromosomes include parts that are not part of the chromatin.  Examples include the kinetochore.                                                                                                                                                                                                                                                                                                                                                                                                                                                                                                  \n",
       "36849  Examples include human speech and learned bird song.                                                                                                                                                                                                                                                                                                                                                                                                                                                                                                                                              \n",
       "43485  wrm-1 in C. Elegans (Q10953) in PMID:17476329 (IMP)                                                                                                                                                                                                                                                                                                                                                                                                                                                                                                                                               \n",
       "45193  An example of this is HSP90AB1 in human (UniProt symbol P08238) in PMID:21855797 (inferred from direct assay).                                                                                                                                                                                                                                                                                                                                                                                                                                                                                    \n",
       "28984  This term was made obsolete because it contained a conjunction (or). It has been replaced with the terms 'growth of symbiont during interaction with host ; GO:0044116' and 'development of symbiont during interaction with host ; GO:0044115'.                                                                                                                                                                                                                                                                                                                                                  \n",
       "7562   This term was made obsolete because it represents a gene product.                                                                                                                                                                                                                                                                                                                                                                                                                                                                                                                                 \n",
       "13088  This term was added by GO_REF:0000021.                                                                                                                                                                                                                                                                                                                                                                                                                                                                                                                                                            \n",
       "17661  Note that this term is not synonymous with 'homophilic cell adhesion ; GO:0007156'; the process may occur by homophilic or heterophilic mechanisms.                                                                                                                                                                                                                                                                                                                                                                                                                                               \n",
       "11106  This term was made obsolete because it represents a gene product.                                                                                                                                                                                                                                                                                                                                                                                                                                                                                                                                 "
      ]
     },
     "execution_count": 23,
     "metadata": {},
     "output_type": "execute_result"
    }
   ],
   "source": [
    "df[['is_obsolete', 'comment']].dropna().sample(10)"
   ]
  },
  {
   "cell_type": "code",
   "execution_count": null,
   "metadata": {
    "collapsed": true
   },
   "outputs": [],
   "source": []
  }
 ],
 "metadata": {
  "anaconda-cloud": {},
  "kernelspec": {
   "display_name": "Python [conda env:ml]",
   "language": "python",
   "name": "conda-env-ml-py"
  },
  "language_info": {
   "codemirror_mode": {
    "name": "ipython",
    "version": 3
   },
   "file_extension": ".py",
   "mimetype": "text/x-python",
   "name": "python",
   "nbconvert_exporter": "python",
   "pygments_lexer": "ipython3",
   "version": "3.5.3"
  }
 },
 "nbformat": 4,
 "nbformat_minor": 2
}
